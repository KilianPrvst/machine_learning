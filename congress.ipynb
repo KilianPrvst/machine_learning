{
 "cells": [
  {
   "cell_type": "code",
   "execution_count": 31,
   "metadata": {},
   "outputs": [],
   "source": [
    "import pandas as pd\n",
    "import numpy as np\n",
    "import matplotlib.pyplot as plt\n",
    "from sklearn.model_selection import train_test_split, GridSearchCV\n",
    "from sklearn.preprocessing import StandardScaler\n",
    "from sklearn.metrics import accuracy_score, precision_score, recall_score, f1_score, roc_curve, precision_recall_curve\n",
    "from sklearn.linear_model import LogisticRegression\n",
    "from sklearn.tree import DecisionTreeClassifier\n",
    "from sklearn.ensemble import RandomForestClassifier\n",
    "from sklearn.svm import SVC\n",
    "from xgboost import XGBClassifier"
   ]
  },
  {
   "cell_type": "code",
   "execution_count": 32,
   "metadata": {},
   "outputs": [],
   "source": [
    "# Load the data\n",
    "data = pd.read_csv(\"CongressionalVotingID.shuf.lrn.csv\")"
   ]
  },
  {
   "cell_type": "code",
   "execution_count": 36,
   "metadata": {},
   "outputs": [
    {
     "data": {
      "text/html": [
       "<div>\n",
       "<style scoped>\n",
       "    .dataframe tbody tr th:only-of-type {\n",
       "        vertical-align: middle;\n",
       "    }\n",
       "\n",
       "    .dataframe tbody tr th {\n",
       "        vertical-align: top;\n",
       "    }\n",
       "\n",
       "    .dataframe thead th {\n",
       "        text-align: right;\n",
       "    }\n",
       "</style>\n",
       "<table border=\"1\" class=\"dataframe\">\n",
       "  <thead>\n",
       "    <tr style=\"text-align: right;\">\n",
       "      <th></th>\n",
       "      <th>ID</th>\n",
       "      <th>class</th>\n",
       "      <th>handicapped-infants</th>\n",
       "      <th>water-project-cost-sharing</th>\n",
       "      <th>adoption-of-the-budget-resolution</th>\n",
       "      <th>physician-fee-freeze</th>\n",
       "      <th>el-salvador-aid</th>\n",
       "      <th>religious-groups-in-schools</th>\n",
       "      <th>anti-satellite-test-ban</th>\n",
       "      <th>aid-to-nicaraguan-contras</th>\n",
       "      <th>mx-missile</th>\n",
       "      <th>immigration</th>\n",
       "      <th>synfuels-crporation-cutback</th>\n",
       "      <th>education-spending</th>\n",
       "      <th>superfund-right-to-sue</th>\n",
       "      <th>crime</th>\n",
       "      <th>duty-free-exports</th>\n",
       "      <th>export-administration-act-south-africa</th>\n",
       "    </tr>\n",
       "  </thead>\n",
       "  <tbody>\n",
       "    <tr>\n",
       "      <th>0</th>\n",
       "      <td>0.570439</td>\n",
       "      <td>0.0</td>\n",
       "      <td>0.478673</td>\n",
       "      <td>0.497462</td>\n",
       "      <td>0.61215</td>\n",
       "      <td>0.386792</td>\n",
       "      <td>0.473684</td>\n",
       "      <td>0.615023</td>\n",
       "      <td>0.59434</td>\n",
       "      <td>0.615385</td>\n",
       "      <td>0.509709</td>\n",
       "      <td>0.495327</td>\n",
       "      <td>0.346341</td>\n",
       "      <td>0.381188</td>\n",
       "      <td>0.495098</td>\n",
       "      <td>0.530806</td>\n",
       "      <td>0.470588</td>\n",
       "      <td>0.8125</td>\n",
       "    </tr>\n",
       "    <tr>\n",
       "      <th>1</th>\n",
       "      <td>0.318707</td>\n",
       "      <td>1.0</td>\n",
       "      <td>1.000000</td>\n",
       "      <td>0.000000</td>\n",
       "      <td>1.00000</td>\n",
       "      <td>0.000000</td>\n",
       "      <td>0.000000</td>\n",
       "      <td>1.000000</td>\n",
       "      <td>1.00000</td>\n",
       "      <td>1.000000</td>\n",
       "      <td>1.000000</td>\n",
       "      <td>0.000000</td>\n",
       "      <td>0.000000</td>\n",
       "      <td>0.000000</td>\n",
       "      <td>0.000000</td>\n",
       "      <td>0.000000</td>\n",
       "      <td>1.000000</td>\n",
       "      <td>1.0000</td>\n",
       "    </tr>\n",
       "    <tr>\n",
       "      <th>2</th>\n",
       "      <td>0.879908</td>\n",
       "      <td>1.0</td>\n",
       "      <td>1.000000</td>\n",
       "      <td>1.000000</td>\n",
       "      <td>0.00000</td>\n",
       "      <td>1.000000</td>\n",
       "      <td>1.000000</td>\n",
       "      <td>1.000000</td>\n",
       "      <td>0.00000</td>\n",
       "      <td>0.000000</td>\n",
       "      <td>0.000000</td>\n",
       "      <td>0.000000</td>\n",
       "      <td>1.000000</td>\n",
       "      <td>0.000000</td>\n",
       "      <td>1.000000</td>\n",
       "      <td>1.000000</td>\n",
       "      <td>0.000000</td>\n",
       "      <td>0.8125</td>\n",
       "    </tr>\n",
       "    <tr>\n",
       "      <th>3</th>\n",
       "      <td>0.459584</td>\n",
       "      <td>1.0</td>\n",
       "      <td>0.000000</td>\n",
       "      <td>0.000000</td>\n",
       "      <td>1.00000</td>\n",
       "      <td>0.000000</td>\n",
       "      <td>0.000000</td>\n",
       "      <td>0.000000</td>\n",
       "      <td>1.00000</td>\n",
       "      <td>1.000000</td>\n",
       "      <td>1.000000</td>\n",
       "      <td>0.000000</td>\n",
       "      <td>0.000000</td>\n",
       "      <td>0.000000</td>\n",
       "      <td>0.000000</td>\n",
       "      <td>1.000000</td>\n",
       "      <td>1.000000</td>\n",
       "      <td>1.0000</td>\n",
       "    </tr>\n",
       "    <tr>\n",
       "      <th>4</th>\n",
       "      <td>0.681293</td>\n",
       "      <td>0.0</td>\n",
       "      <td>0.000000</td>\n",
       "      <td>0.000000</td>\n",
       "      <td>1.00000</td>\n",
       "      <td>1.000000</td>\n",
       "      <td>1.000000</td>\n",
       "      <td>1.000000</td>\n",
       "      <td>0.00000</td>\n",
       "      <td>0.000000</td>\n",
       "      <td>0.000000</td>\n",
       "      <td>1.000000</td>\n",
       "      <td>0.000000</td>\n",
       "      <td>1.000000</td>\n",
       "      <td>1.000000</td>\n",
       "      <td>1.000000</td>\n",
       "      <td>1.000000</td>\n",
       "      <td>1.0000</td>\n",
       "    </tr>\n",
       "    <tr>\n",
       "      <th>...</th>\n",
       "      <td>...</td>\n",
       "      <td>...</td>\n",
       "      <td>...</td>\n",
       "      <td>...</td>\n",
       "      <td>...</td>\n",
       "      <td>...</td>\n",
       "      <td>...</td>\n",
       "      <td>...</td>\n",
       "      <td>...</td>\n",
       "      <td>...</td>\n",
       "      <td>...</td>\n",
       "      <td>...</td>\n",
       "      <td>...</td>\n",
       "      <td>...</td>\n",
       "      <td>...</td>\n",
       "      <td>...</td>\n",
       "      <td>...</td>\n",
       "      <td>...</td>\n",
       "    </tr>\n",
       "    <tr>\n",
       "      <th>213</th>\n",
       "      <td>0.240185</td>\n",
       "      <td>1.0</td>\n",
       "      <td>1.000000</td>\n",
       "      <td>1.000000</td>\n",
       "      <td>1.00000</td>\n",
       "      <td>0.000000</td>\n",
       "      <td>0.000000</td>\n",
       "      <td>0.000000</td>\n",
       "      <td>0.00000</td>\n",
       "      <td>1.000000</td>\n",
       "      <td>1.000000</td>\n",
       "      <td>0.000000</td>\n",
       "      <td>1.000000</td>\n",
       "      <td>0.000000</td>\n",
       "      <td>0.000000</td>\n",
       "      <td>0.000000</td>\n",
       "      <td>1.000000</td>\n",
       "      <td>1.0000</td>\n",
       "    </tr>\n",
       "    <tr>\n",
       "      <th>214</th>\n",
       "      <td>0.621247</td>\n",
       "      <td>1.0</td>\n",
       "      <td>1.000000</td>\n",
       "      <td>1.000000</td>\n",
       "      <td>1.00000</td>\n",
       "      <td>0.000000</td>\n",
       "      <td>0.000000</td>\n",
       "      <td>0.000000</td>\n",
       "      <td>1.00000</td>\n",
       "      <td>1.000000</td>\n",
       "      <td>1.000000</td>\n",
       "      <td>0.000000</td>\n",
       "      <td>0.000000</td>\n",
       "      <td>0.000000</td>\n",
       "      <td>0.000000</td>\n",
       "      <td>0.000000</td>\n",
       "      <td>1.000000</td>\n",
       "      <td>1.0000</td>\n",
       "    </tr>\n",
       "    <tr>\n",
       "      <th>215</th>\n",
       "      <td>0.630485</td>\n",
       "      <td>0.0</td>\n",
       "      <td>1.000000</td>\n",
       "      <td>0.000000</td>\n",
       "      <td>0.00000</td>\n",
       "      <td>1.000000</td>\n",
       "      <td>1.000000</td>\n",
       "      <td>0.000000</td>\n",
       "      <td>1.00000</td>\n",
       "      <td>0.000000</td>\n",
       "      <td>0.000000</td>\n",
       "      <td>1.000000</td>\n",
       "      <td>0.000000</td>\n",
       "      <td>0.000000</td>\n",
       "      <td>0.000000</td>\n",
       "      <td>1.000000</td>\n",
       "      <td>1.000000</td>\n",
       "      <td>1.0000</td>\n",
       "    </tr>\n",
       "    <tr>\n",
       "      <th>216</th>\n",
       "      <td>0.812933</td>\n",
       "      <td>0.0</td>\n",
       "      <td>0.000000</td>\n",
       "      <td>0.000000</td>\n",
       "      <td>1.00000</td>\n",
       "      <td>1.000000</td>\n",
       "      <td>1.000000</td>\n",
       "      <td>1.000000</td>\n",
       "      <td>1.00000</td>\n",
       "      <td>0.000000</td>\n",
       "      <td>0.000000</td>\n",
       "      <td>1.000000</td>\n",
       "      <td>1.000000</td>\n",
       "      <td>1.000000</td>\n",
       "      <td>1.000000</td>\n",
       "      <td>1.000000</td>\n",
       "      <td>0.000000</td>\n",
       "      <td>1.0000</td>\n",
       "    </tr>\n",
       "    <tr>\n",
       "      <th>217</th>\n",
       "      <td>0.743649</td>\n",
       "      <td>1.0</td>\n",
       "      <td>1.000000</td>\n",
       "      <td>1.000000</td>\n",
       "      <td>1.00000</td>\n",
       "      <td>0.000000</td>\n",
       "      <td>1.000000</td>\n",
       "      <td>1.000000</td>\n",
       "      <td>0.00000</td>\n",
       "      <td>1.000000</td>\n",
       "      <td>0.509709</td>\n",
       "      <td>1.000000</td>\n",
       "      <td>0.000000</td>\n",
       "      <td>0.000000</td>\n",
       "      <td>1.000000</td>\n",
       "      <td>1.000000</td>\n",
       "      <td>0.000000</td>\n",
       "      <td>0.8125</td>\n",
       "    </tr>\n",
       "  </tbody>\n",
       "</table>\n",
       "<p>218 rows × 18 columns</p>\n",
       "</div>"
      ],
      "text/plain": [
       "           ID  class  handicapped-infants  water-project-cost-sharing  \\\n",
       "0    0.570439    0.0             0.478673                    0.497462   \n",
       "1    0.318707    1.0             1.000000                    0.000000   \n",
       "2    0.879908    1.0             1.000000                    1.000000   \n",
       "3    0.459584    1.0             0.000000                    0.000000   \n",
       "4    0.681293    0.0             0.000000                    0.000000   \n",
       "..        ...    ...                  ...                         ...   \n",
       "213  0.240185    1.0             1.000000                    1.000000   \n",
       "214  0.621247    1.0             1.000000                    1.000000   \n",
       "215  0.630485    0.0             1.000000                    0.000000   \n",
       "216  0.812933    0.0             0.000000                    0.000000   \n",
       "217  0.743649    1.0             1.000000                    1.000000   \n",
       "\n",
       "     adoption-of-the-budget-resolution  physician-fee-freeze  el-salvador-aid  \\\n",
       "0                              0.61215              0.386792         0.473684   \n",
       "1                              1.00000              0.000000         0.000000   \n",
       "2                              0.00000              1.000000         1.000000   \n",
       "3                              1.00000              0.000000         0.000000   \n",
       "4                              1.00000              1.000000         1.000000   \n",
       "..                                 ...                   ...              ...   \n",
       "213                            1.00000              0.000000         0.000000   \n",
       "214                            1.00000              0.000000         0.000000   \n",
       "215                            0.00000              1.000000         1.000000   \n",
       "216                            1.00000              1.000000         1.000000   \n",
       "217                            1.00000              0.000000         1.000000   \n",
       "\n",
       "     religious-groups-in-schools  anti-satellite-test-ban  \\\n",
       "0                       0.615023                  0.59434   \n",
       "1                       1.000000                  1.00000   \n",
       "2                       1.000000                  0.00000   \n",
       "3                       0.000000                  1.00000   \n",
       "4                       1.000000                  0.00000   \n",
       "..                           ...                      ...   \n",
       "213                     0.000000                  0.00000   \n",
       "214                     0.000000                  1.00000   \n",
       "215                     0.000000                  1.00000   \n",
       "216                     1.000000                  1.00000   \n",
       "217                     1.000000                  0.00000   \n",
       "\n",
       "     aid-to-nicaraguan-contras  mx-missile  immigration  \\\n",
       "0                     0.615385    0.509709     0.495327   \n",
       "1                     1.000000    1.000000     0.000000   \n",
       "2                     0.000000    0.000000     0.000000   \n",
       "3                     1.000000    1.000000     0.000000   \n",
       "4                     0.000000    0.000000     1.000000   \n",
       "..                         ...         ...          ...   \n",
       "213                   1.000000    1.000000     0.000000   \n",
       "214                   1.000000    1.000000     0.000000   \n",
       "215                   0.000000    0.000000     1.000000   \n",
       "216                   0.000000    0.000000     1.000000   \n",
       "217                   1.000000    0.509709     1.000000   \n",
       "\n",
       "     synfuels-crporation-cutback  education-spending  superfund-right-to-sue  \\\n",
       "0                       0.346341            0.381188                0.495098   \n",
       "1                       0.000000            0.000000                0.000000   \n",
       "2                       1.000000            0.000000                1.000000   \n",
       "3                       0.000000            0.000000                0.000000   \n",
       "4                       0.000000            1.000000                1.000000   \n",
       "..                           ...                 ...                     ...   \n",
       "213                     1.000000            0.000000                0.000000   \n",
       "214                     0.000000            0.000000                0.000000   \n",
       "215                     0.000000            0.000000                0.000000   \n",
       "216                     1.000000            1.000000                1.000000   \n",
       "217                     0.000000            0.000000                1.000000   \n",
       "\n",
       "        crime  duty-free-exports  export-administration-act-south-africa  \n",
       "0    0.530806           0.470588                                  0.8125  \n",
       "1    0.000000           1.000000                                  1.0000  \n",
       "2    1.000000           0.000000                                  0.8125  \n",
       "3    1.000000           1.000000                                  1.0000  \n",
       "4    1.000000           1.000000                                  1.0000  \n",
       "..        ...                ...                                     ...  \n",
       "213  0.000000           1.000000                                  1.0000  \n",
       "214  0.000000           1.000000                                  1.0000  \n",
       "215  1.000000           1.000000                                  1.0000  \n",
       "216  1.000000           0.000000                                  1.0000  \n",
       "217  1.000000           0.000000                                  0.8125  \n",
       "\n",
       "[218 rows x 18 columns]"
      ]
     },
     "execution_count": 36,
     "metadata": {},
     "output_type": "execute_result"
    }
   ],
   "source": [
    "data"
   ]
  },
  {
   "cell_type": "code",
   "execution_count": 34,
   "metadata": {},
   "outputs": [
    {
     "name": "stdout",
     "output_type": "stream",
     "text": [
      "ID                                        0\n",
      "class                                     0\n",
      "handicapped-infants                       0\n",
      "water-project-cost-sharing                0\n",
      "adoption-of-the-budget-resolution         0\n",
      "physician-fee-freeze                      0\n",
      "el-salvador-aid                           0\n",
      "religious-groups-in-schools               0\n",
      "anti-satellite-test-ban                   0\n",
      "aid-to-nicaraguan-contras                 0\n",
      "mx-missile                                0\n",
      "immigration                               0\n",
      "synfuels-crporation-cutback               0\n",
      "education-spending                        0\n",
      "superfund-right-to-sue                    0\n",
      "crime                                     0\n",
      "duty-free-exports                         0\n",
      "export-administration-act-south-africa    0\n",
      "dtype: int64\n"
     ]
    },
    {
     "data": {
      "image/png": "[encoded data removed]",
      "text/plain": [
       "<Figure size 432x288 with 1 Axes>"
      ]
     },
     "metadata": {
      "needs_background": "light"
     },
     "output_type": "display_data"
    },
    {
     "name": "stderr",
     "output_type": "stream",
     "text": [
      "C:\\Users\\KP519\\AppData\\Local\\Temp/ipykernel_12440/1767366828.py:10: FutureWarning: The pandas.np module is deprecated and will be removed from pandas in a future version. Import numpy directly instead\n",
      "  data = data.replace(\"unknown\", pd.np.nan)\n"
     ]
    },
    {
     "name": "stdout",
     "output_type": "stream",
     "text": [
      "Running Random Forest...\n"
     ]
    },
    {
     "name": "stderr",
     "output_type": "stream",
     "text": [
      "No handles with labels found to put in legend.\n"
     ]
    },
    {
     "data": {
      "image/png": "[encoded data removed]",
      "text/plain": [
       "<Figure size 432x288 with 1 Axes>"
      ]
     },
     "metadata": {
      "needs_background": "light"
     },
     "output_type": "display_data"
    },
    {
     "data": {
      "image/png": "[encoded data removed]",
      "text/plain": [
       "<Figure size 432x288 with 1 Axes>"
      ]
     },
     "metadata": {
      "needs_background": "light"
     },
     "output_type": "display_data"
    },
    {
     "name": "stdout",
     "output_type": "stream",
     "text": [
      "Running Support Vector Machine...\n"
     ]
    },
    {
     "name": "stderr",
     "output_type": "stream",
     "text": [
      "No handles with labels found to put in legend.\n"
     ]
    },
    {
     "data": {
      "image/png": "[encoded data removed]",
      "text/plain": [
       "<Figure size 432x288 with 1 Axes>"
      ]
     },
     "metadata": {
      "needs_background": "light"
     },
     "output_type": "display_data"
    },
    {
     "data": {
      "image/png": "[encoded data removed]",
      "text/plain": [
       "<Figure size 432x288 with 1 Axes>"
      ]
     },
     "metadata": {
      "needs_background": "light"
     },
     "output_type": "display_data"
    },
    {
     "name": "stdout",
     "output_type": "stream",
     "text": [
      "Running XGBoost...\n"
     ]
    },
    {
     "name": "stderr",
     "output_type": "stream",
     "text": [
      "No handles with labels found to put in legend.\n"
     ]
    },
    {
     "data": {
      "image/png": "[encoded data removed]",
      "text/plain": [
       "<Figure size 432x288 with 1 Axes>"
      ]
     },
     "metadata": {
      "needs_background": "light"
     },
     "output_type": "display_data"
    },
    {
     "data": {
      "image/png": "[encoded data removed]",
      "text/plain": [
       "<Figure size 432x288 with 1 Axes>"
      ]
     },
     "metadata": {
      "needs_background": "light"
     },
     "output_type": "display_data"
    },
    {
     "name": "stdout",
     "output_type": "stream",
     "text": [
      "Random Forest\n",
      "measure:  accuracy, value : 0.9272727272727272\n",
      "{'learning_rate': 0.5, 'max_depth': 2, 'n_estimators': 100}\n",
      "measure:  precision, value : 0.9272727272727272\n",
      "{'learning_rate': 0.5, 'max_depth': 2, 'n_estimators': 100}\n",
      "measure:  recall, value : 0.9272727272727272\n",
      "{'learning_rate': 0.5, 'max_depth': 2, 'n_estimators': 100}\n",
      "measure:  f1_score, value : 0.9272727272727272\n",
      "{'learning_rate': 0.5, 'max_depth': 2, 'n_estimators': 100}\n",
      "measure:  fit_time, value : 0.45905643145243324\n",
      "{'learning_rate': 0.5, 'max_depth': 2, 'n_estimators': 100}\n",
      "measure:  score_time, value : 0.03649946848551432\n",
      "{'learning_rate': 0.5, 'max_depth': 2, 'n_estimators': 100}\n",
      "Support Vector Machine\n",
      "measure:  accuracy, value : 0.9272727272727272\n",
      "{'learning_rate': 0.5, 'max_depth': 2, 'n_estimators': 100}\n",
      "measure:  precision, value : 0.9272727272727272\n",
      "{'learning_rate': 0.5, 'max_depth': 2, 'n_estimators': 100}\n",
      "measure:  recall, value : 0.9272727272727272\n",
      "{'learning_rate': 0.5, 'max_depth': 2, 'n_estimators': 100}\n",
      "measure:  f1_score, value : 0.9272727272727272\n",
      "{'learning_rate': 0.5, 'max_depth': 2, 'n_estimators': 100}\n",
      "measure:  fit_time, value : 0.004130771557490031\n",
      "{'learning_rate': 0.5, 'max_depth': 2, 'n_estimators': 100}\n",
      "measure:  score_time, value : 0.001795257329940796\n",
      "{'learning_rate': 0.5, 'max_depth': 2, 'n_estimators': 100}\n",
      "XGBoost\n",
      "measure:  accuracy, value : 0.9454545454545454\n",
      "{'learning_rate': 0.5, 'max_depth': 2, 'n_estimators': 100}\n",
      "measure:  precision, value : 0.946983346983347\n",
      "{'learning_rate': 0.5, 'max_depth': 2, 'n_estimators': 100}\n",
      "measure:  recall, value : 0.9454545454545454\n",
      "{'learning_rate': 0.5, 'max_depth': 2, 'n_estimators': 100}\n",
      "measure:  f1_score, value : 0.9458701298701299\n",
      "{'learning_rate': 0.5, 'max_depth': 2, 'n_estimators': 100}\n",
      "measure:  fit_time, value : 2.083996584150526\n",
      "{'learning_rate': 0.5, 'max_depth': 2, 'n_estimators': 100}\n",
      "measure:  score_time, value : 0.009298983679877387\n",
      "{'learning_rate': 0.5, 'max_depth': 2, 'n_estimators': 100}\n"
     ]
    }
   ],
   "source": [
    "# Check for missing values\n",
    "print(data.isnull().sum())\n",
    "\n",
    "L = []\n",
    "\n",
    "# Check for outliers\n",
    "#plt.figure(figsize = (50,10))\n",
    "plt.hist(data['class'])\n",
    "plt.show()\n",
    "\n",
    "# replace \"unknown\" values with NaN\n",
    "data = data.replace(\"unknown\", pd.np.nan)\n",
    "\n",
    "# convert categorical variables to numeric values (0 or 1)\n",
    "data[\"class\"] = data[\"class\"].map({\"democrat\": 1, \"republican\": 0})\n",
    "\n",
    "# convert binary variables to numeric values (0 or 1)\n",
    "for col in data.columns[2:]:\n",
    "    data[col] = data[col].map({\"y\": 1, \"n\": 0})\n",
    "\n",
    "# fill missing values with the mean of each column\n",
    "data = data.fillna(data.mean())\n",
    "\n",
    "# normalize the data\n",
    "data = (data - data.min()) / (data.max() - data.min())\n",
    "\n",
    "\n",
    "# Split the data into training and test sets\n",
    "X = data.drop(\"class\", axis=1)\n",
    "y = data[\"class\"]\n",
    "X_train, X_test, y_train, y_test = train_test_split(X, y, test_size=0.25, random_state=42)\n",
    "\n",
    "# Scale the data\n",
    "scaler = StandardScaler()\n",
    "X_train = scaler.fit_transform(X_train)\n",
    "X_test = scaler.transform(X_test)\n",
    "\n",
    "# Define the classifiers and their parameter grids\n",
    "classifiers = {\n",
    "    'Random Forest': (RandomForestClassifier(),\n",
    "                      {'n_estimators': [50, 100, 200],\n",
    "                       'criterion': ['gini', 'entropy'],\n",
    "                       'max_depth': [2, 4, 6, 8, 10]}),\n",
    "    'Support Vector Machine': (SVC(),\n",
    "                               {'C': [0.01, 0.1, 1, 10, 100],\n",
    "                                'kernel': ['linear', 'poly', 'rbf', 'sigmoid'],\n",
    "                                'degree': [2, 3, 4],\n",
    "                                'gamma': ['scale', 'auto']}),\n",
    "    'XGBoost': (XGBClassifier(),\n",
    "                {'learning_rate': [0.01, 0.1, 0.5],\n",
    "                 'max_depth': [2, 4, 6, 8, 10],\n",
    "                 'n_estimators': [50, 100, 200]})\n",
    "}\n",
    "\n",
    "# Train and evaluate the classifiers\n",
    "results = {}\n",
    "for name, (classifier, param_grid) in classifiers.items():\n",
    "    print(f'Running {name}...')\n",
    "    grid_search = GridSearchCV(classifier, param_grid=param_grid, cv=5)\n",
    "    grid_search.fit(X_train, y_train)\n",
    "    y_pred = grid_search.predict(X_test)\n",
    "    L.append(grid_search.predict(X_kaggle))\n",
    "    results[name] = {\n",
    "        'best_params': grid_search.best_params_,\n",
    "        'accuracy': accuracy_score(y_test, y_pred),\n",
    "        'precision': precision_score(y_test, y_pred, average='weighted'),\n",
    "        'recall': recall_score(y_test, y_pred, average='weighted'),\n",
    "        'f1_score': f1_score(y_test, y_pred, average='weighted'),\n",
    "        'fit_time': grid_search.cv_results_['mean_fit_time'].mean(),\n",
    "        'score_time': grid_search.cv_results_['mean_score_time'].mean()\n",
    "    }\n",
    "    fpr, tpr, thresholds = roc_curve(y_test, y_pred)\n",
    "    plt.plot(fpr, tpr)\n",
    "    plt.xlabel('False Positive Rate')\n",
    "    plt.ylabel('True Positive Rate')\n",
    "    plt.legend(loc='lower center')\n",
    "    plt.show()\n",
    "    precision, recall, threshold = precision_recall_curve(y_test, y_pred)\n",
    "    plt.plot(recall, precision)\n",
    "    plt.xlabel(\"Recall\")\n",
    "    plt.ylabel(\"Precision\")\n",
    "    plt.title(\"Precision-Recall Curve\")\n",
    "    plt.show()\n",
    "    \n",
    "\n",
    "    #plt.plot(results[name].get('precision'), results[name].get('recall'))\n",
    "    #plt.xlabel('Precision')\n",
    "    #plt.ylabel('Recall')\n",
    "    #plt.title(f\"{name}\")\n",
    "    #plt.show()\n",
    "\n",
    "# Print the results\n",
    "for name, result in results.items():\n",
    "    print(name)\n",
    "    for measure, value in result.items():\n",
    "        if measure != 'best_params':\n",
    "            print(f'measure:  {measure}, value : {value}')\n",
    "    print(grid_search.best_params_)\n"
   ]
  },
  {
   "cell_type": "code",
   "execution_count": 39,
   "metadata": {},
   "outputs": [
    {
     "name": "stdout",
     "output_type": "stream",
     "text": [
      "55\n"
     ]
    }
   ],
   "source": [
    "print(len(y_pred))"
   ]
  },
  {
   "cell_type": "code",
   "execution_count": null,
   "metadata": {},
   "outputs": [],
   "source": []
  },
  {
   "cell_type": "code",
   "execution_count": 41,
   "metadata": {},
   "outputs": [
    {
     "data": {
      "image/png": "[encoded data removed]",
      "text/plain": [
       "<Figure size 432x288 with 1 Axes>"
      ]
     },
     "metadata": {
      "needs_background": "light"
     },
     "output_type": "display_data"
    },
    {
     "data": {
      "image/png": "[encoded data removed]",
      "text/plain": [
       "<Figure size 432x288 with 1 Axes>"
      ]
     },
     "metadata": {
      "needs_background": "light"
     },
     "output_type": "display_data"
    },
    {
     "data": {
      "image/png": "[encoded data removed]",
      "text/plain": [
       "<Figure size 432x288 with 1 Axes>"
      ]
     },
     "metadata": {
      "needs_background": "light"
     },
     "output_type": "display_data"
    },
    {
     "data": {
      "image/png": "[encoded data removed]",
      "text/plain": [
       "<Figure size 432x288 with 1 Axes>"
      ]
     },
     "metadata": {
      "needs_background": "light"
     },
     "output_type": "display_data"
    }
   ],
   "source": [
    "# Plot a histogram of the first feature\n",
    "plt.hist(data.iloc[:, 1], bins=20)\n",
    "plt.xlabel('Feature 1')\n",
    "plt.ylabel('Frequency')\n",
    "plt.title('1st feature')\n",
    "plt.show()\n",
    "\n",
    "# Count the number of instances in each class\n",
    "class_counts = data['class'].value_counts()\n",
    "\n",
    "# Plot a bar chart of class distribution\n",
    "plt.bar(class_counts.index, class_counts.values)\n",
    "plt.xlabel('Class')\n",
    "plt.ylabel('Number of instances')\n",
    "plt.title('class distribution')\n",
    "plt.show()\n",
    "\n",
    "# Plot a scatter plot of the first and second features\n",
    "plt.scatter(data.iloc[:, 1], data.iloc[:, 2])\n",
    "plt.xlabel('Feature 1')\n",
    "plt.ylabel('Feature 2')\n",
    "plt.title('scatter plot of 1st and 2nd feature')\n",
    "plt.show()\n",
    "\n",
    "# Plot a box plot of the first feature\n",
    "plt.boxplot(data.iloc[:, 1])\n",
    "plt.xlabel('Feature 1')\n",
    "plt.title('box plot of the first feature')\n",
    "plt.show()"
   ]
  }
 ],
 "metadata": {
  "kernelspec": {
   "display_name": "base",
   "language": "python",
   "name": "python3"
  },
  "language_info": {
   "codemirror_mode": {
    "name": "ipython",
    "version": 3
   },
   "file_extension": ".py",
   "mimetype": "text/x-python",
   "name": "python",
   "nbconvert_exporter": "python",
   "pygments_lexer": "ipython3",
   "version": "3.9.5"
  },
  "orig_nbformat": 4
 },
 "nbformat": 4,
 "nbformat_minor": 2
}

{
 "cells": [
  {
   "cell_type": "code",
   "execution_count": 1,
   "metadata": {},
   "outputs": [
    {
     "name": "stderr",
     "output_type": "stream",
     "text": [
      "c:\\miniconda\\lib\\site-packages\\numpy\\_distributor_init.py:30: UserWarning: loaded more than 1 DLL from .libs:\n",
      "c:\\miniconda\\lib\\site-packages\\numpy\\.libs\\libopenblas.EL2C6PLE4ZYW3ECEVIV3OXXGRN2NRFM2.gfortran-win_amd64.dll\n",
      "c:\\miniconda\\lib\\site-packages\\numpy\\.libs\\libopenblas64__v0.3.21-gcc_10_3_0.dll\n",
      "  warnings.warn(\"loaded more than 1 DLL from .libs:\"\n",
      "c:\\miniconda\\lib\\site-packages\\scipy\\__init__.py:146: UserWarning: A NumPy version >=1.16.5 and <1.23.0 is required for this version of SciPy (detected version 1.24.3\n",
      "  warnings.warn(f\"A NumPy version >={np_minversion} and <{np_maxversion}\"\n"
     ]
    }
   ],
   "source": [
    "import numpy as np\n",
    "import torch\n",
    "import pandas as pd\n",
    "from torch.autograd import grad\n",
    "from sklearn.model_selection import train_test_split\n",
    "import torch.nn as tornn"
   ]
  },
  {
   "cell_type": "code",
   "execution_count": 10,
   "metadata": {},
   "outputs": [],
   "source": [
    "#Initialize weights\n",
    "class NeuralNetwork:\n",
    "    def __init__(self,input, output, n_layers, n_neurons, activation_function, loss_function, learning_rate, epoch):\n",
    "        NeuralNetwork.n_layers = n_layers\n",
    "        NeuralNetwork.input = input\n",
    "        NeuralNetwork.output = output\n",
    "        NeuralNetwork.n_neurons = n_neurons\n",
    "        NeuralNetwork.activation_function = activation_function\n",
    "        NeuralNetwork.loss_function = loss_function\n",
    "        NeuralNetwork.learning_rate = learning_rate\n",
    "        NeuralNetwork.epoch = epoch\n",
    "    \n",
    "    def weight(n_layers, n_neurons):\n",
    "        W = np.ones((n_layers,n_neurons))\n",
    "        b = np.ones((n_layers, n_neurons))\n",
    "        return [W, b]\n",
    "    \n",
    "    def softmax(x):\n",
    "        return np.exp(x) / np.sum(np.exp(x), axis = 0)\n",
    "\n",
    "    def forward(self,input, n_layers, n_neurons, activation_function):\n",
    "        network = list(input)\n",
    "        W = NeuralNetwork.weight(n_layers, n_neurons)[0]\n",
    "        b = NeuralNetwork.weight(n_layers, n_neurons)[1]\n",
    "        for i in range(n_layers - 1):\n",
    "            new_element = activation_function(np.dot(W[i], network[i] + b[i]))\n",
    "            network.append(new_element)\n",
    "        network.append(NeuralNetwork.softmax(network[-1]))\n",
    "        return network\n",
    "    \n",
    "    def backward(self, input, output, activation_function, loss_function, n_layers, n_neurons, network):\n",
    "        #L = loss_function(loss_function)\n",
    "        #grad_loss = grad(loss_function)\n",
    "        W = NeuralNetwork.weight(n_layers, n_neurons)[0]\n",
    "        b = NeuralNetwork.weight(n_layers, n_neurons)[1]\n",
    "        #print(W)\n",
    "        #print(list(NeuralNetwork.input))\n",
    "        #print(loss_function(list(NeuralNetwork.output), network[-1]))\n",
    "        l = NeuralNetwork.learning_rate\n",
    "        #W = torch.tensor(W, requires_grad=True)\n",
    "        #array_input = np.array(NeuralNetwork.input)\n",
    "        #array_input = array_input.astype(np.float32)\n",
    "        #inpt = torch.tensor(array_input, requires_grad=True)\n",
    "        losses = torch.tensor(loss_function(list(NeuralNetwork.output), network[-1]), requires_grad=True)\n",
    "        print(losses)\n",
    "        print(W)\n",
    "        #print(inpt)\n",
    "        #for i in range(NeuralNetwork.epoch):\n",
    "            #for j in range(len(W[0])):\n",
    "                #torch.autograd.backward(loss)\n",
    "                # Update weights\n",
    "                #with torch.no_grad():\n",
    "                    #w -= learning_rate * w.grad\n",
    "                    #b -= learning_rate * b.grad\n",
    "                    #W[j] = [weight - l * grad_param for weight, grad_param in zip(W[j], W[j].grad)]\n",
    "                #gradients = grad(losses,W[j], inpt, , allow_unused=True)\n",
    "                #print(gradients)\n",
    "\n",
    "        network = self.forward(input, n_layers, n_neurons, activation_function)\n",
    "        gradients = [2 * (network[-1] - output) * self.activation_function(network[-1], derivative = True)]\n",
    "\n",
    "        for i in range(self.n_layers - 1, 0, -1):\n",
    "            delta = np.dot(gradients[-1], self.weights[i].T) * self.activation_function(network[i], derivative=True)\n",
    "            gradients.append(delta)\n",
    "\n",
    "        gradients.reverse()\n",
    "\n",
    "        for i in range(self.n_layers):\n",
    "            W[i] -= self.learning_rate * np.dot(network[i].T, gradients[i])\n",
    "            self.biases[i] -= self.learning_rate * np.sum(gradients[i], axis=0)\n",
    "                \n",
    "        return W\n"
   ]
  },
  {
   "cell_type": "code",
   "execution_count": 11,
   "metadata": {},
   "outputs": [
    {
     "data": {
      "text/plain": [
       "<numpy.vectorize at 0x20633dc6b80>"
      ]
     },
     "execution_count": 11,
     "metadata": {},
     "output_type": "execute_result"
    }
   ],
   "source": [
    "def activation(x, derivative = False):\n",
    "    if derivative:\n",
    "        return np.sigmoid(x) * (1 - np.sigmoid(x))\n",
    "    return 1 / (1 + np.exp(-x))\n",
    "\n",
    "def loss(x,y):\n",
    "        return 0.5 * (x - y) ** 2\n",
    "\n",
    "np.vectorize(activation)\n",
    "np.vectorize(loss)"
   ]
  },
  {
   "cell_type": "code",
   "execution_count": 12,
   "metadata": {},
   "outputs": [],
   "source": [
    "# Load the data\n",
    "data = pd.read_excel(\"Raisin_Dataset.xlsx\")"
   ]
  },
  {
   "cell_type": "code",
   "execution_count": 13,
   "metadata": {},
   "outputs": [],
   "source": [
    "#Transform Class column to 0 and 1 column : Kecimen = 1 and Besni = 0\n",
    "data[\"Class\"] = np.where(data[\"Class\"] == 'Kecimen',1,0)\n",
    "\n",
    "# Split the data into training and test sets\n",
    "X = data.drop(['Class'], axis=1)\n",
    "y = data['Class']\n",
    "X_train, X_test, y_train, y_test = train_test_split(X, y, test_size=0.2, random_state=42)\n",
    "\n",
    "X_train_2 = X_train[\"Area\"][:10]\n",
    "y_train_2 = y_train[:10]"
   ]
  },
  {
   "cell_type": "code",
   "execution_count": 14,
   "metadata": {},
   "outputs": [
    {
     "name": "stdout",
     "output_type": "stream",
     "text": [
      "[ 80437  72483  85739 182788  62835 109254  61492 136340  55746  59902]\n"
     ]
    }
   ],
   "source": [
    "print(np.array(X_train_2))"
   ]
  },
  {
   "cell_type": "code",
   "execution_count": 15,
   "metadata": {},
   "outputs": [],
   "source": [
    "nn = NeuralNetwork(X_train_2, y_train_2, n_layers = 3, n_neurons = 10, activation_function = activation, loss_function = loss, learning_rate = 0.1, epoch = 10)"
   ]
  },
  {
   "cell_type": "code",
   "execution_count": 16,
   "metadata": {},
   "outputs": [],
   "source": [
    "network = nn.forward(X_train_2, n_layers = 3, n_neurons = 10, activation_function = activation)"
   ]
  },
  {
   "cell_type": "code",
   "execution_count": 17,
   "metadata": {},
   "outputs": [
    {
     "name": "stdout",
     "output_type": "stream",
     "text": [
      "tensor([0.0000, 0.0000, 0.0000, 0.5000, 0.0000, 0.5000, 0.0000, 0.0000, 0.0000,\n",
      "        0.0000], dtype=torch.float64, requires_grad=True)\n",
      "[[1. 1. 1. 1. 1. 1. 1. 1. 1. 1.]\n",
      " [1. 1. 1. 1. 1. 1. 1. 1. 1. 1.]\n",
      " [1. 1. 1. 1. 1. 1. 1. 1. 1. 1.]]\n"
     ]
    },
    {
     "ename": "TypeError",
     "evalue": "activation() takes from 1 to 2 positional arguments but 3 were given",
     "output_type": "error",
     "traceback": [
      "\u001b[1;31m---------------------------------------------------------------------------\u001b[0m",
      "\u001b[1;31mTypeError\u001b[0m                                 Traceback (most recent call last)",
      "\u001b[1;32m~\\AppData\\Local\\Temp/ipykernel_21348/1428306853.py\u001b[0m in \u001b[0;36m<module>\u001b[1;34m\u001b[0m\n\u001b[1;32m----> 1\u001b[1;33m \u001b[0mnn\u001b[0m\u001b[1;33m.\u001b[0m\u001b[0mbackward\u001b[0m\u001b[1;33m(\u001b[0m\u001b[0minput\u001b[0m \u001b[1;33m=\u001b[0m \u001b[0mX_train_2\u001b[0m\u001b[1;33m,\u001b[0m \u001b[0mactivation_function\u001b[0m \u001b[1;33m=\u001b[0m \u001b[0mactivation\u001b[0m\u001b[1;33m,\u001b[0m \u001b[0moutput\u001b[0m \u001b[1;33m=\u001b[0m \u001b[0my_train_2\u001b[0m\u001b[1;33m,\u001b[0m\u001b[0mloss_function\u001b[0m \u001b[1;33m=\u001b[0m \u001b[0mloss\u001b[0m\u001b[1;33m,\u001b[0m \u001b[0mn_layers\u001b[0m \u001b[1;33m=\u001b[0m \u001b[1;36m3\u001b[0m\u001b[1;33m,\u001b[0m \u001b[0mn_neurons\u001b[0m \u001b[1;33m=\u001b[0m \u001b[1;36m10\u001b[0m\u001b[1;33m,\u001b[0m \u001b[0mnetwork\u001b[0m \u001b[1;33m=\u001b[0m \u001b[0mnetwork\u001b[0m\u001b[1;33m)\u001b[0m\u001b[1;33m\u001b[0m\u001b[1;33m\u001b[0m\u001b[0m\n\u001b[0m",
      "\u001b[1;32m~\\AppData\\Local\\Temp/ipykernel_21348/4211658064.py\u001b[0m in \u001b[0;36mbackward\u001b[1;34m(self, input, output, activation_function, loss_function, n_layers, n_neurons, network)\u001b[0m\n\u001b[0;32m     57\u001b[0m \u001b[1;33m\u001b[0m\u001b[0m\n\u001b[0;32m     58\u001b[0m         \u001b[0mnetwork\u001b[0m \u001b[1;33m=\u001b[0m \u001b[0mself\u001b[0m\u001b[1;33m.\u001b[0m\u001b[0mforward\u001b[0m\u001b[1;33m(\u001b[0m\u001b[0minput\u001b[0m\u001b[1;33m,\u001b[0m \u001b[0mn_layers\u001b[0m\u001b[1;33m,\u001b[0m \u001b[0mn_neurons\u001b[0m\u001b[1;33m,\u001b[0m \u001b[0mactivation_function\u001b[0m\u001b[1;33m)\u001b[0m\u001b[1;33m\u001b[0m\u001b[1;33m\u001b[0m\u001b[0m\n\u001b[1;32m---> 59\u001b[1;33m         \u001b[0mgradients\u001b[0m \u001b[1;33m=\u001b[0m \u001b[1;33m[\u001b[0m\u001b[1;36m2\u001b[0m \u001b[1;33m*\u001b[0m \u001b[1;33m(\u001b[0m\u001b[0mnetwork\u001b[0m\u001b[1;33m[\u001b[0m\u001b[1;33m-\u001b[0m\u001b[1;36m1\u001b[0m\u001b[1;33m]\u001b[0m \u001b[1;33m-\u001b[0m \u001b[0moutput\u001b[0m\u001b[1;33m)\u001b[0m \u001b[1;33m*\u001b[0m \u001b[0mself\u001b[0m\u001b[1;33m.\u001b[0m\u001b[0mactivation_function\u001b[0m\u001b[1;33m(\u001b[0m\u001b[0mnetwork\u001b[0m\u001b[1;33m[\u001b[0m\u001b[1;33m-\u001b[0m\u001b[1;36m1\u001b[0m\u001b[1;33m]\u001b[0m\u001b[1;33m,\u001b[0m \u001b[1;32mTrue\u001b[0m\u001b[1;33m)\u001b[0m\u001b[1;33m]\u001b[0m\u001b[1;33m\u001b[0m\u001b[1;33m\u001b[0m\u001b[0m\n\u001b[0m\u001b[0;32m     60\u001b[0m \u001b[1;33m\u001b[0m\u001b[0m\n\u001b[0;32m     61\u001b[0m         \u001b[1;32mfor\u001b[0m \u001b[0mi\u001b[0m \u001b[1;32min\u001b[0m \u001b[0mrange\u001b[0m\u001b[1;33m(\u001b[0m\u001b[0mself\u001b[0m\u001b[1;33m.\u001b[0m\u001b[0mn_layers\u001b[0m \u001b[1;33m-\u001b[0m \u001b[1;36m1\u001b[0m\u001b[1;33m,\u001b[0m \u001b[1;36m0\u001b[0m\u001b[1;33m,\u001b[0m \u001b[1;33m-\u001b[0m\u001b[1;36m1\u001b[0m\u001b[1;33m)\u001b[0m\u001b[1;33m:\u001b[0m\u001b[1;33m\u001b[0m\u001b[1;33m\u001b[0m\u001b[0m\n",
      "\u001b[1;31mTypeError\u001b[0m: activation() takes from 1 to 2 positional arguments but 3 were given"
     ]
    }
   ],
   "source": [
    "nn.backward(input = X_train_2, activation_function = activation, output = y_train_2,loss_function = loss, n_layers = 3, n_neurons = 10, network = network)"
   ]
  },
  {
   "cell_type": "code",
   "execution_count": null,
   "metadata": {},
   "outputs": [],
   "source": []
  }
 ],
 "metadata": {
  "kernelspec": {
   "display_name": "base",
   "language": "python",
   "name": "python3"
  },
  "language_info": {
   "codemirror_mode": {
    "name": "ipython",
    "version": 3
   },
   "file_extension": ".py",
   "mimetype": "text/x-python",
   "name": "python",
   "nbconvert_exporter": "python",
   "pygments_lexer": "ipython3",
   "version": "3.9.5"
  },
  "orig_nbformat": 4
 },
 "nbformat": 4,
 "nbformat_minor": 2
}

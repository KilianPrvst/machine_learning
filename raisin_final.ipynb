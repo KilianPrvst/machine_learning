{
 "cells": [
  {
   "cell_type": "code",
   "execution_count": 1,
   "metadata": {},
   "outputs": [],
   "source": [
    "import pandas as pd\n",
    "import numpy as np\n",
    "import matplotlib.pyplot as plt\n",
    "from sklearn.model_selection import train_test_split, GridSearchCV\n",
    "from sklearn.preprocessing import StandardScaler\n",
    "from sklearn.metrics import accuracy_score, precision_score, recall_score, f1_score, roc_curve\n",
    "from sklearn.linear_model import LogisticRegression\n",
    "from sklearn.tree import DecisionTreeClassifier\n",
    "from sklearn.ensemble import RandomForestClassifier\n",
    "from sklearn.svm import SVC\n",
    "from xgboost import XGBClassifier"
   ]
  },
  {
   "cell_type": "code",
   "execution_count": 2,
   "metadata": {},
   "outputs": [],
   "source": [
    "# Load the data\n",
    "data = pd.read_excel(\"Raisin_Dataset.xlsx\")"
   ]
  },
  {
   "cell_type": "code",
   "execution_count": 3,
   "metadata": {},
   "outputs": [
    {
     "name": "stdout",
     "output_type": "stream",
     "text": [
      "Area               0\n",
      "MajorAxisLength    0\n",
      "MinorAxisLength    0\n",
      "Eccentricity       0\n",
      "ConvexArea         0\n",
      "Extent             0\n",
      "Perimeter          0\n",
      "Class              0\n",
      "dtype: int64\n"
     ]
    },
    {
     "data": {
      "image/png": "[encoded data removed]",
      "text/plain": [
       "<Figure size 432x288 with 1 Axes>"
      ]
     },
     "metadata": {
      "needs_background": "light"
     },
     "output_type": "display_data"
    },
    {
     "name": "stdout",
     "output_type": "stream",
     "text": [
      "Running Random Forest...\n",
      "Running Support Vector Machine...\n"
     ]
    }
   ],
   "source": [
    "# Load the data\n",
    "data = pd.read_excel(\"Raisin_Dataset.xlsx\")\n",
    "\n",
    "# Check for missing values\n",
    "print(data.isnull().sum())\n",
    "\n",
    "# Check for outliers\n",
    "plt.hist(data['Class'])\n",
    "plt.show()\n",
    "\n",
    "# Remove outliers\n",
    "#data = data[data['Volume'] < 50]\n",
    "\n",
    "# Encode categorical variables (if any)\n",
    "# No categorical variables in this dataset\n",
    "\n",
    "#Transform Class column to 0 and 1 column : Kecimen = 1 and Besni = 0\n",
    "data[\"Class\"] = np.where(data[\"Class\"] == 'Kecimen',1,0)\n",
    "\n",
    "# Split the data into training and test sets\n",
    "X = data.drop(['Class'], axis=1)\n",
    "y = data['Class']\n",
    "X_train, X_test, y_train, y_test = train_test_split(X, y, test_size=0.2, random_state=42)\n",
    "\n",
    "# Scale the data\n",
    "#scaler = StandardScaler()\n",
    "#X_train = scaler.fit_transform(X_train)\n",
    "#X_test = scaler.transform(X_test)\n",
    "\n",
    "# Define the classifiers and their parameter grids\n",
    "classifiers = {\n",
    "    'Random Forest': (RandomForestClassifier(),\n",
    "                      {'n_estimators': [50, 100, 200],\n",
    "                       'criterion': ['gini', 'entropy'],\n",
    "                       'max_depth': [2, 4, 6, 8, 10]}),\n",
    "    'Support Vector Machine': (SVC(),\n",
    "                               {'C': [0.01, 0.1, 1, 10, 100],\n",
    "                                'kernel': ['linear', 'poly', 'rbf', 'sigmoid'],\n",
    "                                'degree': [2, 3, 4],\n",
    "                                'gamma': ['scale', 'auto']}),\n",
    "    'XGBoost': (XGBClassifier(),\n",
    "                {'learning_rate': [0.01, 0.1, 0.5],\n",
    "                 'max_depth': [2, 4, 6, 8, 10],\n",
    "                 'n_estimators': [50, 100, 200]})\n",
    "}\n",
    "\n",
    "# Train and evaluate the classifiers\n",
    "results = {}\n",
    "for name, (classifier, param_grid) in classifiers.items():\n",
    "    print(f'Running {name}...')\n",
    "    grid_search = GridSearchCV(classifier, param_grid=param_grid, cv=5)\n",
    "    grid_search.fit(X_train, y_train)\n",
    "    y_pred = grid_search.predict(X_test)\n",
    "    results[name] = {\n",
    "        'best_params': grid_search.best_params_,\n",
    "        'accuracy': accuracy_score(y_test, y_pred),\n",
    "        'precision': precision_score(y_test, y_pred, average='weighted'),\n",
    "        'recall': recall_score(y_test, y_pred, average='weighted'),\n",
    "        'f1_score': f1_score(y_test, y_pred, average='weighted'),\n",
    "        'fit_time': grid_search.cv_results_['mean_fit_time'].mean(),\n",
    "        'score_time': grid_search.cv_results_['mean_score_time'].mean()\n",
    "    }\n",
    "    fpr, tpr, thresholds = roc_curve(y_test, y_pred)\n",
    "    plt.plot(fpr, tpr, label=f'{name}')\n",
    "    plt.xlabel('False Positive Rate')\n",
    "    plt.ylabel('True Positive Rate')\n",
    "    plt.legend(loc='lower center')\n",
    "    \n",
    "\n",
    "    #plt.plot(recall_score(y_test, y_pred, average='weighted'), results[f\"{name}\"].get('recall'))\n",
    "    #plt.xlabel('Precision')\n",
    "    #plt.ylabel('Recall')\n",
    "    #plt.title(f\"{name}\")\n",
    "    #plt.show()\n",
    "plt.show()\n",
    "\n",
    "# Print the results\n",
    "for name, result in results.items():\n",
    "    print(name)\n",
    "    for measure, value in result.items():\n",
    "        print(f'measure:  {measure}, value : {value}')\n"
   ]
  },
  {
   "cell_type": "code",
   "execution_count": null,
   "metadata": {},
   "outputs": [],
   "source": []
  }
 ],
 "metadata": {
  "kernelspec": {
   "display_name": "base",
   "language": "python",
   "name": "python3"
  },
  "language_info": {
   "codemirror_mode": {
    "name": "ipython",
    "version": 3
   },
   "file_extension": ".py",
   "mimetype": "text/x-python",
   "name": "python",
   "nbconvert_exporter": "python",
   "pygments_lexer": "ipython3",
   "version": "3.9.5"
  },
  "orig_nbformat": 4
 },
 "nbformat": 4,
 "nbformat_minor": 2
}

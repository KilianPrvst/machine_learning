{
 "cells": [
  {
   "cell_type": "code",
   "execution_count": 1,
   "metadata": {},
   "outputs": [],
   "source": [
    "import pandas as pd\n",
    "import numpy as np\n",
    "import matplotlib.pyplot as plt\n",
    "from sklearn.model_selection import train_test_split, GridSearchCV\n",
    "from sklearn.preprocessing import StandardScaler\n",
    "from sklearn.metrics import accuracy_score, precision_score, recall_score, f1_score, roc_auc_score, roc_curve\n",
    "from sklearn.linear_model import LogisticRegression\n",
    "from sklearn.tree import DecisionTreeClassifier\n",
    "from sklearn.ensemble import RandomForestClassifier\n",
    "from sklearn.svm import SVC\n",
    "from xgboost import XGBClassifier"
   ]
  },
  {
   "cell_type": "code",
   "execution_count": 2,
   "metadata": {},
   "outputs": [],
   "source": [
    "# Load the data\n",
    "data = pd.read_excel(\"default_of_credit_card_clients.xls\")"
   ]
  },
  {
   "cell_type": "code",
   "execution_count": 3,
   "metadata": {},
   "outputs": [
    {
     "name": "stdout",
     "output_type": "stream",
     "text": [
      "ID                            0\n",
      "LIMIT_BAL                     0\n",
      "SEX                           0\n",
      "EDUCATION                     0\n",
      "MARRIAGE                      0\n",
      "AGE                           0\n",
      "PAY_0                         0\n",
      "PAY_2                         0\n",
      "PAY_3                         0\n",
      "PAY_4                         0\n",
      "PAY_5                         0\n",
      "PAY_6                         0\n",
      "BILL_AMT1                     0\n",
      "BILL_AMT2                     0\n",
      "BILL_AMT3                     0\n",
      "BILL_AMT4                     0\n",
      "BILL_AMT5                     0\n",
      "BILL_AMT6                     0\n",
      "PAY_AMT1                      0\n",
      "PAY_AMT2                      0\n",
      "PAY_AMT3                      0\n",
      "PAY_AMT4                      0\n",
      "PAY_AMT5                      0\n",
      "PAY_AMT6                      0\n",
      "default payment next month    0\n",
      "dtype: int64\n"
     ]
    },
    {
     "data": {
      "image/png": "[encoded data removed]",
      "text/plain": [
       "<Figure size 432x288 with 1 Axes>"
      ]
     },
     "metadata": {
      "needs_background": "light"
     },
     "output_type": "display_data"
    },
    {
     "name": "stdout",
     "output_type": "stream",
     "text": [
      "Running Support Vector Machine...\n"
     ]
    },
    {
     "name": "stderr",
     "output_type": "stream",
     "text": [
      "No handles with labels found to put in legend.\n"
     ]
    },
    {
     "name": "stdout",
     "output_type": "stream",
     "text": [
      "Support Vector Machine\n",
      "best_params\n",
      "measure:  accuracy, value : 0.8205\n",
      "measure:  precision, value : 0.8033282430542946\n",
      "measure:  recall, value : 0.8205\n",
      "measure:  f1_score, value : 0.7959038159472653\n",
      "measure:  fit_time, value : 104.78501453399659\n",
      "measure:  score_time, value : 12.414695358276369\n"
     ]
    },
    {
     "data": {
      "image/png": "[encoded data removed]",
      "text/plain": [
       "<Figure size 432x288 with 1 Axes>"
      ]
     },
     "metadata": {
      "needs_background": "light"
     },
     "output_type": "display_data"
    }
   ],
   "source": [
    "columns = data.iloc[0]\n",
    "val_0 = list(columns.values)\n",
    "data.set_axis(val_0, axis=1, inplace=True)\n",
    "data.drop(0, inplace = True)\n",
    "\n",
    "# Check for missing values\n",
    "print(data.isnull().sum())\n",
    "\n",
    "# Check for outliers\n",
    "plt.hist(data['default payment next month'])\n",
    "plt.xlabel('default state')\n",
    "plt.ylabel('number of instances')\n",
    "plt.show()\n",
    "\n",
    "###\n",
    "\n",
    "#Creation of dummy variable by hand\n",
    "#Creation of dummy variables\n",
    "L = ['SEX', 'EDUCATION', 'MARRIAGE', 'PAY_0', 'PAY_2', 'PAY_3', 'PAY_4', 'PAY_5', 'PAY_6']\n",
    "for column in L:  \n",
    "    for type in data[f\"{column}\"].unique():\n",
    "        data[f\"{column}_{type}\"] = np.where(data[f\"{column}\"] == type,1,0)\n",
    "    data.drop(columns=[f\"{column}\"], inplace=True)\n",
    "\n",
    "# Age\n",
    "for i in range(15,86,5):\n",
    "    data[f\"AGE_{i}_{i+5}\"] = np.where((data[\"AGE\"] >= i) & (data[\"AGE\"] < i+5), 1,0)\n",
    "data.drop(columns=[\"AGE\"], inplace=True)\n",
    "\n",
    "#Bill column\n",
    "for i in range(1,7):\n",
    "    data[f\"BILL_AMT{i}\"] = (data[f\"BILL_AMT{i}\"] - data[f\"BILL_AMT{i}\"].mean())/data[f\"BILL_AMT{i}\"].std()\n",
    "\n",
    "#Pay column\n",
    "for i in range(1,7):\n",
    "    data[f\"BILL_AMT{i}\"] = (data[f\"PAY_AMT{i}\"] - data[f\"PAY_AMT{i}\"].mean())/data[f\"PAY_AMT{i}\"].std()\n",
    "\n",
    "#data.drop(columns=[\"ID\",\"SEX\", \"EDUCATION\", \"MARRIAGE\", 'PAY_0', 'PAY_2', 'PAY_3', 'PAY_4', 'PAY_5', 'PAY_6'],inplace=True)\n",
    "val = list(columns.values)\n",
    "\n",
    "#labels = np.array(data['default payment next month'])\n",
    "#labels = labels.astype('int')\n",
    "#features = data.drop('default payment next month', axis = 1)\n",
    "#features_list = val\n",
    "#features = np.array(features)\n",
    "x = data.drop('default payment next month', axis=1)\n",
    "y = data['default payment next month'].astype('int')\n",
    "#train_features, test_features, train_label, test_label = train_test_split(features, labels, test_size = 0.33, random_state = 42)\n",
    "X_train, X_test, y_train, y_test = train_test_split(x, y, test_size=0.2, random_state=42)\n",
    "\n",
    "###\n",
    "\n",
    "# Scale the data\n",
    "#scaler = StandardScaler()\n",
    "#X_train = scaler.fit_transform(X_train)\n",
    "#X_test = scaler.transform(X_test)\n",
    "\n",
    "# Define the classifiers and their parameter grids\n",
    "classifiers = {\n",
    "    #'Random Forest': (RandomForestClassifier(),\n",
    "                      #{'n_estimators': [50, 100, 200],\n",
    "                       #'criterion': ['gini', 'entropy'],\n",
    "                       #'max_depth': [2, 4, 6, 8, 10]}),\n",
    "    'Support Vector Machine': (SVC(),\n",
    "                               {'C': [0.01, 0.1, 1, 10, 100],\n",
    "                                'kernel': ['linear', 'poly', 'rbf', 'sigmoid'],\n",
    "                                'degree': [2, 3, 4],\n",
    "                                'gamma': ['scale', 'auto']}),\n",
    "    \n",
    "    #'XGBoost': (XGBClassifier(),\n",
    "                #{'learning_rate': [0.01, 0.1, 0.5],\n",
    "                 #'max_depth': [2, 4, 6, 8, 10],\n",
    "                 #'n_estimators': [50, 100, 200]})\n",
    "}\n",
    "\n",
    "# Train and evaluate the classifiers\n",
    "results = {}\n",
    "for name, (classifier, param_grid) in classifiers.items():\n",
    "    print(f'Running {name}...')\n",
    "    grid_search = GridSearchCV(classifier, param_grid=param_grid, cv=5)\n",
    "    grid_search.fit(X_train, y_train)\n",
    "    y_pred = grid_search.predict(X_test)\n",
    "    results[name] = {\n",
    "        'best_params': grid_search.best_params_,\n",
    "        'accuracy': accuracy_score(y_test, y_pred),\n",
    "        'precision': precision_score(y_test, y_pred, average='weighted'),\n",
    "        'recall': recall_score(y_test, y_pred, average='weighted'),\n",
    "        'f1_score': f1_score(y_test, y_pred, average='weighted'),\n",
    "        'fit_time': grid_search.cv_results_['mean_fit_time'].mean(),\n",
    "        'score_time': grid_search.cv_results_['mean_score_time'].mean()\n",
    "    }\n",
    "    fpr, tpr, thresholds = roc_curve(y_test, y_pred)\n",
    "    plt.plot(fpr, tpr)\n",
    "    plt.xlabel('False Positive Rate')\n",
    "    plt.ylabel('True Positive Rate')\n",
    "    plt.legend(loc='lower center')\n",
    "\n",
    "# Print the results\n",
    "for name, result in results.items():\n",
    "    print(name)\n",
    "    for measure, value in result.items():\n",
    "        if measure != 'best_params':\n",
    "            print(f'measure:  {measure}, value : {value}')\n",
    "        else:\n",
    "            print(measure)\n"
   ]
  },
  {
   "cell_type": "code",
   "execution_count": null,
   "metadata": {},
   "outputs": [],
   "source": []
  }
 ],
 "metadata": {
  "kernelspec": {
   "display_name": "base",
   "language": "python",
   "name": "python3"
  },
  "language_info": {
   "codemirror_mode": {
    "name": "ipython",
    "version": 3
   },
   "file_extension": ".py",
   "mimetype": "text/x-python",
   "name": "python",
   "nbconvert_exporter": "python",
   "pygments_lexer": "ipython3",
   "version": "3.9.5"
  },
  "orig_nbformat": 4
 },
 "nbformat": 4,
 "nbformat_minor": 2
}
